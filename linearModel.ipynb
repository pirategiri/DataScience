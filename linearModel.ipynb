{
  "nbformat": 4,
  "nbformat_minor": 0,
  "metadata": {
    "colab": {
      "name": "linearModel.ipynb",
      "provenance": [],
      "authorship_tag": "ABX9TyNmLERsnKFlfLZnk2znlFn4",
      "include_colab_link": true
    },
    "kernelspec": {
      "name": "python3",
      "display_name": "Python 3"
    },
    "language_info": {
      "name": "python"
    }
  },
  "cells": [
    {
      "cell_type": "markdown",
      "metadata": {
        "id": "view-in-github",
        "colab_type": "text"
      },
      "source": [
        "<a href=\"https://colab.research.google.com/github/pirategiri/DataScience/blob/main/linearModel.ipynb\" target=\"_parent\"><img src=\"https://colab.research.google.com/assets/colab-badge.svg\" alt=\"Open In Colab\"/></a>"
      ]
    },
    {
      "cell_type": "code",
      "metadata": {
        "colab": {
          "base_uri": "https://localhost:8080/"
        },
        "id": "bb5ba2IfnKnt",
        "outputId": "a8e55998-f5b7-4a5e-a36a-315117c99b4d"
      },
      "source": [
        "import pandas as pd\n",
        "import numpy as np\n",
        "import matplotlib.pyplot as plt\n",
        "from google.colab import drive\n",
        "drive.mount('/gdrive')\n",
        "import os"
      ],
      "execution_count": 1,
      "outputs": [
        {
          "output_type": "stream",
          "text": [
            "Mounted at /gdrive\n"
          ],
          "name": "stdout"
        }
      ]
    },
    {
      "cell_type": "code",
      "metadata": {
        "colab": {
          "base_uri": "https://localhost:8080/",
          "height": 204
        },
        "id": "ozAKCf1unrVe",
        "outputId": "e7d19340-e0a3-45b4-a6e2-a87dacec08a1"
      },
      "source": [
        "data_path = \"/gdrive/My Drive/DagDataScienceMaterial/data_folder/optimization\"\n",
        "data_file = os.path.join(data_path, \"boston_train.csv\")\n",
        "df = pd.read_csv(data_file)\n",
        "df.head()"
      ],
      "execution_count": 3,
      "outputs": [
        {
          "output_type": "execute_result",
          "data": {
            "text/html": [
              "<div>\n",
              "<style scoped>\n",
              "    .dataframe tbody tr th:only-of-type {\n",
              "        vertical-align: middle;\n",
              "    }\n",
              "\n",
              "    .dataframe tbody tr th {\n",
              "        vertical-align: top;\n",
              "    }\n",
              "\n",
              "    .dataframe thead th {\n",
              "        text-align: right;\n",
              "    }\n",
              "</style>\n",
              "<table border=\"1\" class=\"dataframe\">\n",
              "  <thead>\n",
              "    <tr style=\"text-align: right;\">\n",
              "      <th></th>\n",
              "      <th>ID</th>\n",
              "      <th>crim</th>\n",
              "      <th>zn</th>\n",
              "      <th>indus</th>\n",
              "      <th>chas</th>\n",
              "      <th>nox</th>\n",
              "      <th>rm</th>\n",
              "      <th>age</th>\n",
              "      <th>dis</th>\n",
              "      <th>rad</th>\n",
              "      <th>tax</th>\n",
              "      <th>ptratio</th>\n",
              "      <th>black</th>\n",
              "      <th>lstat</th>\n",
              "      <th>medv</th>\n",
              "    </tr>\n",
              "  </thead>\n",
              "  <tbody>\n",
              "    <tr>\n",
              "      <th>0</th>\n",
              "      <td>1</td>\n",
              "      <td>0.00632</td>\n",
              "      <td>18.0</td>\n",
              "      <td>2.31</td>\n",
              "      <td>0</td>\n",
              "      <td>0.538</td>\n",
              "      <td>6.575</td>\n",
              "      <td>65.2</td>\n",
              "      <td>4.0900</td>\n",
              "      <td>1</td>\n",
              "      <td>296</td>\n",
              "      <td>15.3</td>\n",
              "      <td>396.90</td>\n",
              "      <td>4.98</td>\n",
              "      <td>24.0</td>\n",
              "    </tr>\n",
              "    <tr>\n",
              "      <th>1</th>\n",
              "      <td>2</td>\n",
              "      <td>0.02731</td>\n",
              "      <td>0.0</td>\n",
              "      <td>7.07</td>\n",
              "      <td>0</td>\n",
              "      <td>0.469</td>\n",
              "      <td>6.421</td>\n",
              "      <td>78.9</td>\n",
              "      <td>4.9671</td>\n",
              "      <td>2</td>\n",
              "      <td>242</td>\n",
              "      <td>17.8</td>\n",
              "      <td>396.90</td>\n",
              "      <td>9.14</td>\n",
              "      <td>21.6</td>\n",
              "    </tr>\n",
              "    <tr>\n",
              "      <th>2</th>\n",
              "      <td>4</td>\n",
              "      <td>0.03237</td>\n",
              "      <td>0.0</td>\n",
              "      <td>2.18</td>\n",
              "      <td>0</td>\n",
              "      <td>0.458</td>\n",
              "      <td>6.998</td>\n",
              "      <td>45.8</td>\n",
              "      <td>6.0622</td>\n",
              "      <td>3</td>\n",
              "      <td>222</td>\n",
              "      <td>18.7</td>\n",
              "      <td>394.63</td>\n",
              "      <td>2.94</td>\n",
              "      <td>33.4</td>\n",
              "    </tr>\n",
              "    <tr>\n",
              "      <th>3</th>\n",
              "      <td>5</td>\n",
              "      <td>0.06905</td>\n",
              "      <td>0.0</td>\n",
              "      <td>2.18</td>\n",
              "      <td>0</td>\n",
              "      <td>0.458</td>\n",
              "      <td>7.147</td>\n",
              "      <td>54.2</td>\n",
              "      <td>6.0622</td>\n",
              "      <td>3</td>\n",
              "      <td>222</td>\n",
              "      <td>18.7</td>\n",
              "      <td>396.90</td>\n",
              "      <td>5.33</td>\n",
              "      <td>36.2</td>\n",
              "    </tr>\n",
              "    <tr>\n",
              "      <th>4</th>\n",
              "      <td>7</td>\n",
              "      <td>0.08829</td>\n",
              "      <td>12.5</td>\n",
              "      <td>7.87</td>\n",
              "      <td>0</td>\n",
              "      <td>0.524</td>\n",
              "      <td>6.012</td>\n",
              "      <td>66.6</td>\n",
              "      <td>5.5605</td>\n",
              "      <td>5</td>\n",
              "      <td>311</td>\n",
              "      <td>15.2</td>\n",
              "      <td>395.60</td>\n",
              "      <td>12.43</td>\n",
              "      <td>22.9</td>\n",
              "    </tr>\n",
              "  </tbody>\n",
              "</table>\n",
              "</div>"
            ],
            "text/plain": [
              "   ID     crim    zn  indus  chas  ...  tax  ptratio   black  lstat  medv\n",
              "0   1  0.00632  18.0   2.31     0  ...  296     15.3  396.90   4.98  24.0\n",
              "1   2  0.02731   0.0   7.07     0  ...  242     17.8  396.90   9.14  21.6\n",
              "2   4  0.03237   0.0   2.18     0  ...  222     18.7  394.63   2.94  33.4\n",
              "3   5  0.06905   0.0   2.18     0  ...  222     18.7  396.90   5.33  36.2\n",
              "4   7  0.08829  12.5   7.87     0  ...  311     15.2  395.60  12.43  22.9\n",
              "\n",
              "[5 rows x 15 columns]"
            ]
          },
          "metadata": {
            "tags": []
          },
          "execution_count": 3
        }
      ]
    },
    {
      "cell_type": "code",
      "metadata": {
        "id": "7CeFIzeV2eWI"
      },
      "source": [
        "y=df['medv']\n",
        "X = df.drop([\"ID\", \"medv\"], axis=1).values\n",
        "X=(X-X.mean())/X.std()\n",
        "X = np.c_[np.ones(X.shape[0]), X] # x0 =1 \n",
        "\n"
      ],
      "execution_count": 11,
      "outputs": []
    },
    {
      "cell_type": "code",
      "metadata": {
        "id": "cVrcLsN08JYL"
      },
      "source": [
        "import numpy as np\n",
        "\n",
        "class LinearRegression :\n",
        "  def __init__(self,alpha=0.01):\n",
        "    self.alpha=alpha #learning rate\n",
        "    self.hist_loss=[] #empty list of loss history\n",
        "    self.hist_param=[] #empty list for parameter updates\n",
        "\n",
        "  def fit_gd(self,x, y, iterations):\n",
        "\n",
        "      \"\"\"\n",
        "      This fit function works for a gradident decent\n",
        "      x : input feature  (m , d), where m = number of data points and d = dimension of the data \n",
        "      y : target value (m ,)\n",
        "      interations : int , number of interation point) \n",
        "      \"\"\"\n",
        "      self.theta =  np.random.rand(x.shape[1])\n",
        "      m = y.size\n",
        "\n",
        "      for it in range(iterations):\n",
        "        \n",
        "        prediction = np.dot(x, self.theta) # h(x) = thetaT.X  (z in logitic regression )\n",
        "        error = prediction - y\n",
        "        loss = 1/(2*m) * np.dot(error.T, error)  #  Matrix form error^2\n",
        "        self.hist_loss.append(loss)\n",
        "        self.theta = self.theta - (self.alpha * (1/m) * np.dot(x.T, error))\n",
        "        if it%50 ==0:\n",
        "          print(f\"it: {it}, train_loss: {loss})\")\n",
        "        self.hist_param.append(self.theta)\n",
        "\n",
        "  def fit_sgd(self,x, y, iterations):\n",
        "      \"\"\"\n",
        "      This fit function works for a  Stocashtic gradident Decent, where we uptimized the parameters using \n",
        "      single observation \n",
        "\n",
        "      x : input feature  (m , d), where m = number of data points and d = dimension of the data \n",
        "      y : target value (m ,)\n",
        "      interations : int , number of interation point) \n",
        "      \"\"\"\n",
        "      self.theta =  np.random.rand(x.shape[1])\n",
        "      m = y.size\n",
        "      for it in range(iterations):\n",
        "        loss = 0.0\n",
        "        for i in range(m):\n",
        "            rand_ind = np.random.randint(0,m)  # updating  with one sample at a time\n",
        "            x_i = x[rand_ind,:] \n",
        "            y_i = y[rand_ind]\n",
        "            prediction = np.dot(x_i, self.theta)\n",
        "            error = prediction - y_i\n",
        "            loss =+1/2 * np.dot(error.T, error) \n",
        "            self.theta = self.theta - (self.alpha * np.dot(x_i.T, error))\n",
        "        self.hist_loss.append(loss)\n",
        "        if it%200 ==0:\n",
        "          print(f\"it: {it}, train_loss: {loss})\")\n",
        "        self.hist_param.append(self.theta)\n",
        "\n",
        "  def fit_batch_sgd(self, x, y, iterations, batch_size = 5):\n",
        "        \"\"\"\n",
        "        This fit function works for a  Stocashtic gradident Decent with batch, where we uptimized the parameters using handful of samples. It is very efficient \n",
        "        for large dataset\n",
        "      \n",
        "        x : input feature  (m , d), where m = number of data points and d = dimension of the data \n",
        "        y : target value (m ,)\n",
        "        interations : int , number of interation point) \n",
        "        \"\"\" \n",
        "        self.theta =  np.random.rand(x.shape[1])\n",
        "        m = y.size\n",
        "        n_batch = int(x.shape[0]/batch_size)\n",
        "        for it in range(iterations):\n",
        "              rand_indices = np.random.choice(range(m), size= batch_size) \n",
        "              x_b = x[rand_indices] \n",
        "              y_b = y[rand_indices]\n",
        "              prediction = np.dot(x_b, self.theta)\n",
        "              error = prediction - y_b\n",
        "              loss =+1/(2*batch_size) * np.dot(error.T, error) \n",
        "              self.theta = self.theta - (self.alpha * np.dot(x_b.T, error))\n",
        "              self.hist_loss.append(loss)\n",
        "              if it%100 ==0:\n",
        "                print(f\"it: {it}, train_loss: {loss})\")\n",
        "              self.hist_param.append(self.theta)\n",
        "\n",
        "    \n",
        "  def predict(self, X):\n",
        "      return np.dot(X, self.theta)\n",
        "\n",
        "    "
      ],
      "execution_count": 26,
      "outputs": []
    },
    {
      "cell_type": "code",
      "metadata": {
        "colab": {
          "base_uri": "https://localhost:8080/"
        },
        "id": "agRS3zg5BHsB",
        "outputId": "d4476c00-841d-4102-cea9-f128cbf54d6f"
      },
      "source": [
        "alpha = 0.001 #Step size\n",
        "iterations = 2000 #No. of iterations\n",
        "np.random.seed(123) #Set the seed\n",
        "lm =LinearRegression(alpha= alpha) \n",
        "lm.fit_gd(X, y, iterations=iterations)\n",
        "yhat = lm.predict(X)"
      ],
      "execution_count": 36,
      "outputs": [
        {
          "output_type": "stream",
          "text": [
            "it: 0, train_loss: 296.75366693984836)\n",
            "it: 50, train_loss: 129.83563546809557)\n",
            "it: 100, train_loss: 81.26645302310814)\n",
            "it: 150, train_loss: 65.8085763041782)\n",
            "it: 200, train_loss: 59.75648693578781)\n",
            "it: 250, train_loss: 56.50213875877579)\n",
            "it: 300, train_loss: 54.189881969718726)\n",
            "it: 350, train_loss: 52.28650317774356)\n",
            "it: 400, train_loss: 50.62808676803109)\n",
            "it: 450, train_loss: 49.15501028925504)\n",
            "it: 500, train_loss: 47.83813887049288)\n",
            "it: 550, train_loss: 46.65815803919686)\n",
            "it: 600, train_loss: 45.5996868917263)\n",
            "it: 650, train_loss: 44.64951312301884)\n",
            "it: 700, train_loss: 43.79598710242998)\n",
            "it: 750, train_loss: 43.02875037344568)\n",
            "it: 800, train_loss: 42.33856814682267)\n",
            "it: 850, train_loss: 41.71720057819338)\n",
            "it: 900, train_loss: 41.15729365088524)\n",
            "it: 950, train_loss: 40.65228338686201)\n",
            "it: 1000, train_loss: 40.19631079509759)\n",
            "it: 1050, train_loss: 39.78414608182989)\n",
            "it: 1100, train_loss: 39.41112103815244)\n",
            "it: 1150, train_loss: 39.07306870151344)\n",
            "it: 1200, train_loss: 38.76626950270113)\n",
            "it: 1250, train_loss: 38.48740319958778)\n",
            "it: 1300, train_loss: 38.23350597536276)\n",
            "it: 1350, train_loss: 38.00193214622658)\n",
            "it: 1400, train_loss: 37.790319983258186)\n",
            "it: 1450, train_loss: 37.59656120641183)\n",
            "it: 1500, train_loss: 37.41877375610148)\n",
            "it: 1550, train_loss: 37.25527749022388)\n",
            "it: 1600, train_loss: 37.10457249230672)\n",
            "it: 1650, train_loss: 36.965319710238944)\n",
            "it: 1700, train_loss: 36.83632367518289)\n",
            "it: 1750, train_loss: 36.716517077170266)\n",
            "it: 1800, train_loss: 36.60494699789756)\n",
            "it: 1850, train_loss: 36.50076262266938)\n",
            "it: 1900, train_loss: 36.403204272568054)\n",
            "it: 1950, train_loss: 36.31159361500263)\n"
          ],
          "name": "stdout"
        }
      ]
    },
    {
      "cell_type": "code",
      "metadata": {
        "colab": {
          "base_uri": "https://localhost:8080/",
          "height": 518
        },
        "id": "T8fBaGYfD-bA",
        "outputId": "5a0292cf-c8ca-4be1-bb55-3ea1786d2aa7"
      },
      "source": [
        "plt.figure(figsize=(12, 8))\n",
        "plt.scatter(yhat, y)\n",
        "plt.ylabel('$Original  price$')\n",
        "plt.xlabel('$predicted  price$')"
      ],
      "execution_count": 37,
      "outputs": [
        {
          "output_type": "execute_result",
          "data": {
            "text/plain": [
              "Text(0.5, 0, '$predicted  price$')"
            ]
          },
          "metadata": {
            "tags": []
          },
          "execution_count": 37
        },
        {
          "output_type": "display_data",
          "data": {
            "image/png": "[encoded data removed]",
            "text/plain": [
              "<Figure size 864x576 with 1 Axes>"
            ]
          },
          "metadata": {
            "tags": [],
            "needs_background": "light"
          }
        }
      ]
    },
    {
      "cell_type": "code",
      "metadata": {
        "colab": {
          "base_uri": "https://localhost:8080/",
          "height": 518
        },
        "id": "hVcLP5aqFgjC",
        "outputId": "89355802-0f12-47d6-f0f7-cc60e525d9ad"
      },
      "source": [
        "plt.figure(figsize=(12, 8))\n",
        "loss_history = lm.hist_loss\n",
        "num_iternation = list(range(len(loss_history)))\n",
        "plt.scatter(num_iternation, loss_history)\n",
        "plt.xlabel('$num_iteration$')\n",
        "plt.ylabel('$J(\\\\theta)$')"
      ],
      "execution_count": 38,
      "outputs": [
        {
          "output_type": "execute_result",
          "data": {
            "text/plain": [
              "Text(0, 0.5, '$J(\\\\theta)$')"
            ]
          },
          "metadata": {
            "tags": []
          },
          "execution_count": 38
        },
        {
          "output_type": "display_data",
          "data": {
            "image/png": "[encoded data removed]",
            "text/plain": [
              "<Figure size 864x576 with 1 Axes>"
            ]
          },
          "metadata": {
            "tags": [],
            "needs_background": "light"
          }
        }
      ]
    },
    {
      "cell_type": "code",
      "metadata": {
        "colab": {
          "base_uri": "https://localhost:8080/"
        },
        "id": "75jrxmbKIh6M",
        "outputId": "a87c1636-e6bb-4614-d663-88f5c63d984f"
      },
      "source": [
        "alpha = 0.001 #Step size\n",
        "iterations = 2000 #No. of iterations\n",
        "np.random.seed(123) #Set the seed\n",
        "lm =LinearRegression(alpha= alpha) \n",
        "lm.fit_sgd(X, y, iterations=iterations)\n",
        "yhat = lm.predict(X)"
      ],
      "execution_count": 40,
      "outputs": [
        {
          "output_type": "stream",
          "text": [
            "it: 0, train_loss: 1.2038723798330129)\n",
            "it: 200, train_loss: 2.092282874329097)\n",
            "it: 400, train_loss: 1.950290770820353)\n",
            "it: 600, train_loss: 3.605773129100813)\n",
            "it: 800, train_loss: 4.2644380524711725)\n",
            "it: 1000, train_loss: 0.8666864442446675)\n",
            "it: 1200, train_loss: 10.102635380152739)\n",
            "it: 1400, train_loss: 4.042772598883553)\n",
            "it: 1600, train_loss: 2.595017901377408)\n",
            "it: 1800, train_loss: 28.81661670074269)\n"
          ],
          "name": "stdout"
        }
      ]
    },
    {
      "cell_type": "code",
      "metadata": {
        "colab": {
          "base_uri": "https://localhost:8080/",
          "height": 518
        },
        "id": "SQIpUgi5I1Fh",
        "outputId": "32365cec-10dd-4e1c-b795-271966017801"
      },
      "source": [
        "plt.figure(figsize=(12, 8))\n",
        "loss_history = lm.hist_loss\n",
        "num_iternation = list(range(len(loss_history)))\n",
        "plt.scatter(num_iternation, loss_history)\n",
        "plt.xlabel('$num_iteration$')\n",
        "plt.ylabel('$J(\\\\theta)$')"
      ],
      "execution_count": 41,
      "outputs": [
        {
          "output_type": "execute_result",
          "data": {
            "text/plain": [
              "Text(0, 0.5, '$J(\\\\theta)$')"
            ]
          },
          "metadata": {
            "tags": []
          },
          "execution_count": 41
        },
        {
          "output_type": "display_data",
          "data": {
            "image/png": "[encoded data removed]",
            "text/plain": [
              "<Figure size 864x576 with 1 Axes>"
            ]
          },
          "metadata": {
            "tags": [],
            "needs_background": "light"
          }
        }
      ]
    },
    {
      "cell_type": "code",
      "metadata": {
        "id": "FXIUdP1zJHPI"
      },
      "source": [
        ""
      ],
      "execution_count": null,
      "outputs": []
    },
    {
      "cell_type": "code",
      "metadata": {
        "colab": {
          "base_uri": "https://localhost:8080/"
        },
        "id": "KvNYQZwNI7uh",
        "outputId": "14a49823-4837-40be-a694-645d7c1d1de8"
      },
      "source": [
        "alpha = 0.001 #Step size\n",
        "iterations = 2000 #No. of iterations\n",
        "np.random.seed(123) #Set the seed\n",
        "lm =LinearRegression(alpha= alpha) \n",
        "lm.fit_batch_sgd(X, y, iterations=iterations)\n",
        "yhat = lm.predict(X)"
      ],
      "execution_count": 42,
      "outputs": [
        {
          "output_type": "stream",
          "text": [
            "it: 0, train_loss: 189.01035853379472)\n",
            "it: 100, train_loss: 68.98784479616849)\n",
            "it: 200, train_loss: 35.980503938408255)\n",
            "it: 300, train_loss: 15.609724677526447)\n",
            "it: 400, train_loss: 15.730861591396124)\n",
            "it: 500, train_loss: 75.34081680784412)\n",
            "it: 600, train_loss: 26.289519925823697)\n",
            "it: 700, train_loss: 79.21913844814105)\n",
            "it: 800, train_loss: 10.365017641512424)\n",
            "it: 900, train_loss: 79.82415765164284)\n",
            "it: 1000, train_loss: 10.061056205980552)\n",
            "it: 1100, train_loss: 31.093132708586523)\n",
            "it: 1200, train_loss: 24.199448225081237)\n",
            "it: 1300, train_loss: 8.256854553436007)\n",
            "it: 1400, train_loss: 21.572756845937604)\n",
            "it: 1500, train_loss: 40.463589713373665)\n",
            "it: 1600, train_loss: 9.646078865507967)\n",
            "it: 1700, train_loss: 9.246337546108379)\n",
            "it: 1800, train_loss: 90.81163265488877)\n",
            "it: 1900, train_loss: 20.384696296307723)\n"
          ],
          "name": "stdout"
        }
      ]
    },
    {
      "cell_type": "code",
      "metadata": {
        "colab": {
          "base_uri": "https://localhost:8080/",
          "height": 518
        },
        "id": "nwH8qyVUJJKc",
        "outputId": "1fd92ca1-2a51-412d-dce5-a6fbfb5d2eba"
      },
      "source": [
        "#theta2\n",
        "plt.figure(figsize=(12, 8))\n",
        "loss_history = lm.hist_loss\n",
        "num_iternation = list(range(len(loss_history)))\n",
        "plt.scatter(num_iternation, loss_history)\n",
        "plt.xlabel('$num_iteration$')\n",
        "plt.ylabel('$J(\\\\theta)$')"
      ],
      "execution_count": 43,
      "outputs": [
        {
          "output_type": "execute_result",
          "data": {
            "text/plain": [
              "Text(0, 0.5, '$J(\\\\theta)$')"
            ]
          },
          "metadata": {
            "tags": []
          },
          "execution_count": 43
        },
        {
          "output_type": "display_data",
          "data": {
            "image/png": "[encoded data removed]",
            "text/plain": [
              "<Figure size 864x576 with 1 Axes>"
            ]
          },
          "metadata": {
            "tags": [],
            "needs_background": "light"
          }
        }
      ]
    }
  ]
}