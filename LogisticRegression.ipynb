{
  "nbformat": 4,
  "nbformat_minor": 0,
  "metadata": {
    "colab": {
      "name": "LogisticRegression.ipynb",
      "provenance": [],
      "authorship_tag": "ABX9TyNfDzjhEGG4kjWvjRWxx8Dd",
      "include_colab_link": true
    },
    "kernelspec": {
      "name": "python3",
      "display_name": "Python 3"
    },
    "language_info": {
      "name": "python"
    }
  },
  "cells": [
    {
      "cell_type": "markdown",
      "metadata": {
        "id": "view-in-github",
        "colab_type": "text"
      },
      "source": [
        "<a href=\"https://colab.research.google.com/github/pirategiri/DataScience/blob/main/LogisticRegression.ipynb\" target=\"_parent\"><img src=\"https://colab.research.google.com/assets/colab-badge.svg\" alt=\"Open In Colab\"/></a>"
      ]
    },
    {
      "cell_type": "code",
      "metadata": {
        "colab": {
          "base_uri": "https://localhost:8080/"
        },
        "id": "xcA4toCf3HBJ",
        "outputId": "b736c400-2a1a-4235-cd61-910aa24045df"
      },
      "source": [
        "import pandas as pd\n",
        "import numpy as np\n",
        "import matplotlib.pyplot as plt\n",
        "from google.colab import drive\n",
        "drive.mount('/gdrive')\n",
        "import os"
      ],
      "execution_count": 4,
      "outputs": [
        {
          "output_type": "stream",
          "text": [
            "Mounted at /gdrive\n"
          ],
          "name": "stdout"
        }
      ]
    },
    {
      "cell_type": "code",
      "metadata": {
        "id": "i1lmwyTZ3gpb"
      },
      "source": [
        "data_path = \"/gdrive/My Drive/DagDataScienceMaterial/data_folder/optimization\"\n",
        "data_file = os.path.join(data_path, \"heart_failure_clinical_records_dataset.csv\")\n",
        "df = pd.read_csv(data_file)"
      ],
      "execution_count": 5,
      "outputs": []
    },
    {
      "cell_type": "code",
      "metadata": {
        "colab": {
          "base_uri": "https://localhost:8080/",
          "height": 224
        },
        "id": "NmaHWyKJ3w-F",
        "outputId": "0d444319-3bad-4008-a64b-d285394cc622"
      },
      "source": [
        "df.head()\n"
      ],
      "execution_count": 6,
      "outputs": [
        {
          "output_type": "execute_result",
          "data": {
            "text/html": [
              "<div>\n",
              "<style scoped>\n",
              "    .dataframe tbody tr th:only-of-type {\n",
              "        vertical-align: middle;\n",
              "    }\n",
              "\n",
              "    .dataframe tbody tr th {\n",
              "        vertical-align: top;\n",
              "    }\n",
              "\n",
              "    .dataframe thead th {\n",
              "        text-align: right;\n",
              "    }\n",
              "</style>\n",
              "<table border=\"1\" class=\"dataframe\">\n",
              "  <thead>\n",
              "    <tr style=\"text-align: right;\">\n",
              "      <th></th>\n",
              "      <th>age</th>\n",
              "      <th>anaemia</th>\n",
              "      <th>creatinine_phosphokinase</th>\n",
              "      <th>diabetes</th>\n",
              "      <th>ejection_fraction</th>\n",
              "      <th>high_blood_pressure</th>\n",
              "      <th>platelets</th>\n",
              "      <th>serum_creatinine</th>\n",
              "      <th>serum_sodium</th>\n",
              "      <th>sex</th>\n",
              "      <th>smoking</th>\n",
              "      <th>time</th>\n",
              "      <th>DEATH_EVENT</th>\n",
              "    </tr>\n",
              "  </thead>\n",
              "  <tbody>\n",
              "    <tr>\n",
              "      <th>0</th>\n",
              "      <td>75.0</td>\n",
              "      <td>0</td>\n",
              "      <td>582</td>\n",
              "      <td>0</td>\n",
              "      <td>20</td>\n",
              "      <td>1</td>\n",
              "      <td>265000.00</td>\n",
              "      <td>1.9</td>\n",
              "      <td>130</td>\n",
              "      <td>1</td>\n",
              "      <td>0</td>\n",
              "      <td>4</td>\n",
              "      <td>1</td>\n",
              "    </tr>\n",
              "    <tr>\n",
              "      <th>1</th>\n",
              "      <td>55.0</td>\n",
              "      <td>0</td>\n",
              "      <td>7861</td>\n",
              "      <td>0</td>\n",
              "      <td>38</td>\n",
              "      <td>0</td>\n",
              "      <td>263358.03</td>\n",
              "      <td>1.1</td>\n",
              "      <td>136</td>\n",
              "      <td>1</td>\n",
              "      <td>0</td>\n",
              "      <td>6</td>\n",
              "      <td>1</td>\n",
              "    </tr>\n",
              "    <tr>\n",
              "      <th>2</th>\n",
              "      <td>65.0</td>\n",
              "      <td>0</td>\n",
              "      <td>146</td>\n",
              "      <td>0</td>\n",
              "      <td>20</td>\n",
              "      <td>0</td>\n",
              "      <td>162000.00</td>\n",
              "      <td>1.3</td>\n",
              "      <td>129</td>\n",
              "      <td>1</td>\n",
              "      <td>1</td>\n",
              "      <td>7</td>\n",
              "      <td>1</td>\n",
              "    </tr>\n",
              "    <tr>\n",
              "      <th>3</th>\n",
              "      <td>50.0</td>\n",
              "      <td>1</td>\n",
              "      <td>111</td>\n",
              "      <td>0</td>\n",
              "      <td>20</td>\n",
              "      <td>0</td>\n",
              "      <td>210000.00</td>\n",
              "      <td>1.9</td>\n",
              "      <td>137</td>\n",
              "      <td>1</td>\n",
              "      <td>0</td>\n",
              "      <td>7</td>\n",
              "      <td>1</td>\n",
              "    </tr>\n",
              "    <tr>\n",
              "      <th>4</th>\n",
              "      <td>65.0</td>\n",
              "      <td>1</td>\n",
              "      <td>160</td>\n",
              "      <td>1</td>\n",
              "      <td>20</td>\n",
              "      <td>0</td>\n",
              "      <td>327000.00</td>\n",
              "      <td>2.7</td>\n",
              "      <td>116</td>\n",
              "      <td>0</td>\n",
              "      <td>0</td>\n",
              "      <td>8</td>\n",
              "      <td>1</td>\n",
              "    </tr>\n",
              "  </tbody>\n",
              "</table>\n",
              "</div>"
            ],
            "text/plain": [
              "    age  anaemia  creatinine_phosphokinase  ...  smoking  time  DEATH_EVENT\n",
              "0  75.0        0                       582  ...        0     4            1\n",
              "1  55.0        0                      7861  ...        0     6            1\n",
              "2  65.0        0                       146  ...        1     7            1\n",
              "3  50.0        1                       111  ...        0     7            1\n",
              "4  65.0        1                       160  ...        0     8            1\n",
              "\n",
              "[5 rows x 13 columns]"
            ]
          },
          "metadata": {},
          "execution_count": 6
        }
      ]
    },
    {
      "cell_type": "code",
      "metadata": {
        "id": "Z0j49nr64BnF"
      },
      "source": [
        "#y is DEATH EVENT  (DEATH EVENT) which we will have to predict in the feature\n",
        "y=df['DEATH_EVENT']\n",
        "#Drop data id and target value (y) from the dataFrame \n",
        "# remaining variables in the table are called features  \n",
        "\n",
        "X = df.drop([\"DEATH_EVENT\"], axis=1).values\n",
        "X = (X -X.mean())/X.std() \n",
        "#X = np.c_[np.ones(X.shape[0]), X] # x0 =1 \n",
        "\n"
      ],
      "execution_count": 14,
      "outputs": []
    },
    {
      "cell_type": "code",
      "metadata": {
        "id": "Mlj2jP3L4ZSE"
      },
      "source": [
        "import numpy as np\n",
        "\n",
        "def sigmoid(z):\n",
        "  sig = 1.0/(1+np.exp(-z))\n",
        "  return sig\n",
        "\n",
        "# Linear  regression model \n",
        "class LogisticRegression:\n",
        "    def __init__(self, alpha =0.01):\n",
        "\n",
        "        self.alpha = alpha # learning rate \n",
        "        self.hist_loss =[] # empty list for loss histroy \n",
        "        self.hist_param = []  # empty list for parameter updates\n",
        "\n",
        "\n",
        "    def fit_gd(self,x, y, iterations):\n",
        "\n",
        "      \"\"\"\n",
        "      This fit function works for a gradident decent\n",
        "      x : input feature  (m , d), where m = number of data points and d = dimension of the data \n",
        "      y : target value (m ,)\n",
        "      interations : int , number of interation point) \n",
        "      \"\"\"\n",
        "      self.theta =  np.random.rand(x.shape[1])\n",
        "      m = y.size\n",
        "      for it in range(iterations):\n",
        "        z = np.dot(x, self.theta) \n",
        "        h = sigmoid(z) #1.0/(1+np.exp(-z))\n",
        "        error = h - y\n",
        "        loss = -(1 / m) * np.sum(y * np.log(h) + (1 - y) * np.log(1 - h)) \n",
        "        self.hist_loss.append(loss)\n",
        "        self.theta = self.theta - (self.alpha * (1/m) * np.dot(x.T, error))\n",
        "        if it%100 ==0:\n",
        "          print(f\"it: {it}, train_loss: {loss})\")\n",
        "        self.hist_param.append(self.theta)\n",
        "\n",
        "    def fit_sgd(self,x, y, iterations):\n",
        "      \"\"\"\n",
        "      This fit function works for a  Stocashtic gradident Decent, where we uptimized the parameters using \n",
        "      single observation \n",
        "\n",
        "      x : input feature  (m , d), where m = number of data points and d = dimension of the data \n",
        "      y : target value (m ,)\n",
        "      interations : int , number of interation point) \n",
        "      \"\"\"\n",
        "      self.theta =  np.random.rand(x.shape[1])\n",
        "      m = y.size\n",
        "      for it in range(iterations):\n",
        "        loss = 0.0\n",
        "        for i in range(m):\n",
        "            rand_ind = np.random.randint(0,m)  # updating  with one sample at a time\n",
        "            x_i = x[rand_ind,:] \n",
        "            y_i = y[rand_ind]\n",
        "            z = np.dot(x_i, self.theta)\n",
        "            h = sigmoid(z) #1.0/(1+np.exp(-z))\n",
        "            error = h - y_i\n",
        "            loss += - np.sum(y_i * np.log(h) + (1 - y_i) * np.log(1 - h))\n",
        "            self.theta = self.theta - (self.alpha*np.dot(x_i.T, error))\n",
        "\n",
        "        self.hist_loss.append(loss)\n",
        "        if it%200 ==0:\n",
        "          print(f\"it: {it}, train_loss: {loss})\")\n",
        "        self.hist_param.append(self.theta)\n",
        "\n",
        "    def fit_batch_sgd(self, x, y, iterations, batch_size = 5):\n",
        "        \"\"\"\n",
        "        This fit function works for a  Stocashtic gradident Decent with batch, where we uptimized the parameters using handful of samples. It is very efficient \n",
        "        for large dataset\n",
        "      \n",
        "        x : input feature  (m , d), where m = number of data points and d = dimension of the data \n",
        "        y : target value (m ,)\n",
        "        interations : int , number of interation point) \n",
        "        \"\"\" \n",
        "        self.theta =  np.random.rand(x.shape[1])\n",
        "        m = y.size\n",
        "        n_batch = int(x.shape[0]/batch_size)\n",
        "        for it in range(iterations):\n",
        "              rand_indices = np.random.choice(range(m), size= batch_size) \n",
        "              x_b = x[rand_indices] \n",
        "              y_b = y[rand_indices]\n",
        "              z = np.dot(x_b, self.theta)\n",
        "              h = sigmoid(z)\n",
        "              error = h - y_b\n",
        "              loss =- np.sum(y_b * np.log(h) + (1 - y_b) * np.log(1 - h))\n",
        "              self.theta = self.theta - (self.alpha * np.dot(x_b.T, error))\n",
        "              self.hist_loss.append(loss)\n",
        "              if it%100 ==0:\n",
        "                print(f\"it: {it}, train_loss: {loss})\")\n",
        "              self.hist_param.append(self.theta)\n",
        "\n",
        "    \n",
        "    def predict_prob(self, X):\n",
        "        z = np.dot(X, self.theta)\n",
        "        p = 1.0/(1. +np.exp(-z))\n",
        "        return p\n",
        "\n",
        "    def predict(self, X, threshold = 0.5):\n",
        "        p = self.predict_prob(X)\n",
        "        yhat = [1 if i >=0.5 else 0 for i in p]\n",
        "        return yhat"
      ],
      "execution_count": 15,
      "outputs": []
    },
    {
      "cell_type": "code",
      "metadata": {
        "colab": {
          "base_uri": "https://localhost:8080/"
        },
        "id": "t43NvXQt4tGa",
        "outputId": "828e347c-f662-4945-abb7-d64343880f49"
      },
      "source": [
        "alpha = 0.01 #Step size\n",
        "iterations = 2000 #No. of iterations\n",
        "np.random.seed(123) #Set the seed\n",
        "lm =LogisticRegression(alpha= alpha) \n",
        "lm.fit_gd(X, y, iterations=iterations)\n",
        "yhat = lm.predict_prob(X)"
      ],
      "execution_count": 22,
      "outputs": [
        {
          "output_type": "stream",
          "text": [
            "it: 0, train_loss: 1.3279588082077236)\n",
            "it: 100, train_loss: 0.6529050829165404)\n",
            "it: 200, train_loss: 0.647946444700858)\n",
            "it: 300, train_loss: 0.6469377151034468)\n",
            "it: 400, train_loss: 0.6459929989545723)\n",
            "it: 500, train_loss: 0.6450896203611339)\n",
            "it: 600, train_loss: 0.6442259301504237)\n",
            "it: 700, train_loss: 0.6434004296985796)\n",
            "it: 800, train_loss: 0.6426116541840795)\n",
            "it: 900, train_loss: 0.6418581733168252)\n",
            "it: 1000, train_loss: 0.6411385925080202)\n",
            "it: 1100, train_loss: 0.6404515538413099)\n",
            "it: 1200, train_loss: 0.6397957368494462)\n",
            "it: 1300, train_loss: 0.6391698591044963)\n",
            "it: 1400, train_loss: 0.6385726766307552)\n",
            "it: 1500, train_loss: 0.6380029841505062)\n",
            "it: 1600, train_loss: 0.637459615173526)\n",
            "it: 1700, train_loss: 0.6369414419417461)\n",
            "it: 1800, train_loss: 0.6364473752407965)\n",
            "it: 1900, train_loss: 0.6359763640902764)\n"
          ],
          "name": "stdout"
        }
      ]
    },
    {
      "cell_type": "code",
      "metadata": {
        "colab": {
          "base_uri": "https://localhost:8080/",
          "height": 501
        },
        "id": "sW5stwto9N-S",
        "outputId": "a916c063-4b5d-4e4a-f6b1-fdf66f7c9764"
      },
      "source": [
        "plt.figure(figsize=(12, 8))\n",
        "plt.scatter(yhat,y)\n",
        "plt.xlabel(\"$Probability $\")\n",
        "plt.show()"
      ],
      "execution_count": 23,
      "outputs": [
        {
          "output_type": "display_data",
          "data": {
            "image/png": "[encoded data removed]",
            "text/plain": [
              "<Figure size 864x576 with 1 Axes>"
            ]
          },
          "metadata": {
            "needs_background": "light"
          }
        }
      ]
    },
    {
      "cell_type": "code",
      "metadata": {
        "id": "QPHWRcy4BOd3"
      },
      "source": [
        ""
      ],
      "execution_count": null,
      "outputs": []
    },
    {
      "cell_type": "code",
      "metadata": {
        "colab": {
          "base_uri": "https://localhost:8080/",
          "height": 518
        },
        "id": "Oh64rwDu_SXZ",
        "outputId": "0a51ac17-5794-4bf2-e4ff-30e953a3c20b"
      },
      "source": [
        "plt.figure(figsize=(12, 8))\n",
        "loss_history = lm.hist_loss\n",
        "num_iternation = list(range(len(loss_history)))\n",
        "plt.scatter(num_iternation, loss_history)\n",
        "plt.xlabel('$num_iteration$')\n",
        "plt.ylabel('$J(\\\\theta)$')"
      ],
      "execution_count": 24,
      "outputs": [
        {
          "output_type": "execute_result",
          "data": {
            "text/plain": [
              "Text(0, 0.5, '$J(\\\\theta)$')"
            ]
          },
          "metadata": {},
          "execution_count": 24
        },
        {
          "output_type": "display_data",
          "data": {
            "image/png": "[encoded data removed]",
            "text/plain": [
              "<Figure size 864x576 with 1 Axes>"
            ]
          },
          "metadata": {
            "needs_background": "light"
          }
        }
      ]
    },
    {
      "cell_type": "code",
      "metadata": {
        "id": "VhVB_3_2_w0Q"
      },
      "source": [
        "theta0_vals = np.array(lm.hist_param)[:,0]\n",
        "theta1_vals = np.array(lm.hist_param)[:,1]\n",
        "J_vals = lm.hist_loss"
      ],
      "execution_count": 25,
      "outputs": []
    },
    {
      "cell_type": "code",
      "metadata": {
        "colab": {
          "base_uri": "https://localhost:8080/"
        },
        "id": "WUOrxF3D_0J9",
        "outputId": "0e3bf708-ecc5-48c1-ff5d-81513255767b"
      },
      "source": [
        ""
      ],
      "execution_count": 29,
      "outputs": [
        {
          "output_type": "execute_result",
          "data": {
            "text/plain": [
              "array([0.28739232, 0.28862555, 0.28983874, ..., 0.18819826, 0.18813677,\n",
              "       0.18807529])"
            ]
          },
          "metadata": {},
          "execution_count": 29
        }
      ]
    },
    {
      "cell_type": "code",
      "metadata": {
        "colab": {
          "base_uri": "https://localhost:8080/"
        },
        "id": "ZBnJEWcqAJLW",
        "outputId": "f235ad6c-4616-47a5-da64-75feecedb0ff"
      },
      "source": [
        "alpha = 0.01 #Step size\n",
        "iterations = 2000 #No. of iterations\n",
        "np.random.seed(123) #Set the seed\n",
        "lm =LogisticRegression(alpha= alpha) \n",
        "lm.fit_sgd(X, y, iterations=iterations)\n",
        "yhat = lm.predict_prob(X)"
      ],
      "execution_count": 37,
      "outputs": [
        {
          "output_type": "stream",
          "text": [
            "it: 0, train_loss: 207.87931804138447)\n",
            "it: 200, train_loss: 180.47687121866105)\n",
            "it: 400, train_loss: 178.0129925819945)\n",
            "it: 600, train_loss: 193.94856368048937)\n",
            "it: 800, train_loss: 180.6586229975172)\n",
            "it: 1000, train_loss: 184.33357166701373)\n",
            "it: 1200, train_loss: 187.85386460429183)\n",
            "it: 1400, train_loss: 200.65396217308484)\n",
            "it: 1600, train_loss: 174.7810352781046)\n",
            "it: 1800, train_loss: 194.27825891602143)\n"
          ],
          "name": "stdout"
        }
      ]
    },
    {
      "cell_type": "code",
      "metadata": {
        "id": "2AvwlpfnBnRH"
      },
      "source": [
        ""
      ],
      "execution_count": null,
      "outputs": []
    },
    {
      "cell_type": "code",
      "metadata": {
        "colab": {
          "base_uri": "https://localhost:8080/",
          "height": 501
        },
        "id": "bIcC6iQ_Bhhx",
        "outputId": "1552353f-9d3e-4947-bdd1-73502beebbeb"
      },
      "source": [
        "plt.figure(figsize=(12, 8))\n",
        "plt.scatter(yhat,y)\n",
        "plt.xlabel(\"$Probability $\")\n",
        "plt.show()"
      ],
      "execution_count": 38,
      "outputs": [
        {
          "output_type": "display_data",
          "data": {
            "image/png": "[encoded data removed]",
            "text/plain": [
              "<Figure size 864x576 with 1 Axes>"
            ]
          },
          "metadata": {
            "needs_background": "light"
          }
        }
      ]
    },
    {
      "cell_type": "code",
      "metadata": {
        "colab": {
          "base_uri": "https://localhost:8080/"
        },
        "id": "6h71bP27Bo8v",
        "outputId": "e271eaa2-654e-4b54-eb3e-d06aabf03367"
      },
      "source": [
        "alpha = 0.01 #Step size\n",
        "iterations = 2000 #No. of iterations\n",
        "np.random.seed(123) #Set the seed\n",
        "lm =LogisticRegression(alpha= alpha) \n",
        "lm.fit_batch_sgd(X, y, iterations=iterations)\n",
        "yhat = lm.predict_prob(X)"
      ],
      "execution_count": 41,
      "outputs": [
        {
          "output_type": "stream",
          "text": [
            "it: 0, train_loss: 5.744044544626618)\n",
            "it: 100, train_loss: 3.263257438281605)\n",
            "it: 200, train_loss: 3.7397433392109223)\n",
            "it: 300, train_loss: 3.8001919266950135)\n",
            "it: 400, train_loss: 2.5492827480598113)\n",
            "it: 500, train_loss: 2.652516853996647)\n",
            "it: 600, train_loss: 3.457727373554877)\n",
            "it: 700, train_loss: 3.525403682774986)\n",
            "it: 800, train_loss: 2.0915926181764797)\n",
            "it: 900, train_loss: 1.984401769717929)\n",
            "it: 1000, train_loss: 6.397608894509319)\n",
            "it: 1100, train_loss: 2.6726871431041013)\n",
            "it: 1200, train_loss: 6.516250378700937)\n",
            "it: 1300, train_loss: 1.4862491616208904)\n",
            "it: 1400, train_loss: 1.8263464839606167)\n",
            "it: 1500, train_loss: 4.012447754035529)\n",
            "it: 1600, train_loss: 2.386869803929608)\n",
            "it: 1700, train_loss: 2.5013934415313974)\n",
            "it: 1800, train_loss: 1.6881906595174176)\n",
            "it: 1900, train_loss: 4.029341145535157)\n"
          ],
          "name": "stdout"
        }
      ]
    },
    {
      "cell_type": "code",
      "metadata": {
        "colab": {
          "base_uri": "https://localhost:8080/",
          "height": 501
        },
        "id": "zh-j4_hXB-OA",
        "outputId": "dad67eda-cd53-4b7c-ceab-b331050dab16"
      },
      "source": [
        "plt.figure(figsize=(12, 8))\n",
        "plt.scatter(yhat,y)\n",
        "plt.xlabel(\"$Probability $\")\n",
        "plt.show()"
      ],
      "execution_count": 42,
      "outputs": [
        {
          "output_type": "display_data",
          "data": {
            "image/png": "[encoded data removed]",
            "text/plain": [
              "<Figure size 864x576 with 1 Axes>"
            ]
          },
          "metadata": {
            "needs_background": "light"
          }
        }
      ]
    }
  ]
}